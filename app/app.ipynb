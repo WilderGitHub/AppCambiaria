{
 "cells": [
  {
   "cell_type": "code",
   "execution_count": 1,
   "metadata": {},
   "outputs": [
    {
     "name": "stdout",
     "output_type": "stream",
     "text": [
      "WARNING *** file size (620327) not 512 + multiple of sector size (512)\n",
      "WARNING *** OLE2 inconsistency: SSCS size is 0 but SSAT size is non-zero\n",
      "WARNING *** file size (357091) not 512 + multiple of sector size (512)\n",
      "WARNING *** OLE2 inconsistency: SSCS size is 0 but SSAT size is non-zero\n",
      "WARNING *** file size (3984880) not 512 + multiple of sector size (512)\n",
      "WARNING *** OLE2 inconsistency: SSCS size is 0 but SSAT size is non-zero\n",
      "WARNING *** file size (4900804) not 512 + multiple of sector size (512)\n",
      "WARNING *** OLE2 inconsistency: SSCS size is 0 but SSAT size is non-zero\n"
     ]
    }
   ],
   "source": [
    "import numpy as np\n",
    "import pandas as pd\n",
    "from pandas import Series, DataFrame\n",
    "gtes = \"gtes.xls\"\n",
    "goi = \"goi.xls\"\n",
    "gom = \"gom.xls\"\n",
    "gef = \"gef.xls\"\n",
    "\n",
    "bdgtes = pd.read_excel('../data/'+gtes)\n",
    "bdgoi = pd.read_excel('../data/'+goi)\n",
    "bdgom = pd.read_excel('../data/'+gom)\n",
    "bdgef = pd.read_excel('../data/'+gef)\n",
    "\n",
    "bdBruto= pd.concat([bdgtes,bdgoi,bdgom,bdgef],ignore_index=True)\n",
    "# bd.describe()\n"
   ]
  },
  {
   "cell_type": "code",
   "execution_count": 2,
   "metadata": {},
   "outputs": [],
   "source": [
    "#bdBruto.columns"
   ]
  },
  {
   "cell_type": "code",
   "execution_count": 3,
   "metadata": {
    "scrolled": true
   },
   "outputs": [
    {
     "data": {
      "text/html": [
       "<div>\n",
       "<style scoped>\n",
       "    .dataframe tbody tr th:only-of-type {\n",
       "        vertical-align: middle;\n",
       "    }\n",
       "\n",
       "    .dataframe tbody tr th {\n",
       "        vertical-align: top;\n",
       "    }\n",
       "\n",
       "    .dataframe thead th {\n",
       "        text-align: right;\n",
       "    }\n",
       "</style>\n",
       "<table border=\"1\" class=\"dataframe\">\n",
       "  <thead>\n",
       "    <tr style=\"text-align: right;\">\n",
       "      <th></th>\n",
       "      <th>glosa_reng</th>\n",
       "      <th>cve_debe_haber</th>\n",
       "      <th>monto_mo</th>\n",
       "      <th>cod_moneda</th>\n",
       "      <th>cod_movimiento</th>\n",
       "      <th>nom_movimiento</th>\n",
       "      <th>monto_mn</th>\n",
       "      <th>glosa_comprob</th>\n",
       "      <th>nro_comprob</th>\n",
       "      <th>cod_mayor</th>\n",
       "    </tr>\n",
       "  </thead>\n",
       "  <tbody>\n",
       "    <tr>\n",
       "      <th>0</th>\n",
       "      <td>NaN</td>\n",
       "      <td>H</td>\n",
       "      <td>488493.03</td>\n",
       "      <td>69</td>\n",
       "      <td>1483</td>\n",
       "      <td>ACREEDORES POR DOCUMENTOS DE COBRO INMEDIATO  ...</td>\n",
       "      <td>488493.03</td>\n",
       "      <td>DEPOSITO DE CHEQUES AJENOS, CONCEPTO: TRAMITE...</td>\n",
       "      <td>1989932</td>\n",
       "      <td>498</td>\n",
       "    </tr>\n",
       "    <tr>\n",
       "      <th>1</th>\n",
       "      <td>NaN</td>\n",
       "      <td>H</td>\n",
       "      <td>729.22</td>\n",
       "      <td>69</td>\n",
       "      <td>1483</td>\n",
       "      <td>ACREEDORES POR DOCUMENTOS DE COBRO INMEDIATO  ...</td>\n",
       "      <td>729.22</td>\n",
       "      <td>DEPOSITO DE CHEQUES AJENOS, CONCEPTO: TRAMITE...</td>\n",
       "      <td>1989933</td>\n",
       "      <td>498</td>\n",
       "    </tr>\n",
       "    <tr>\n",
       "      <th>2</th>\n",
       "      <td>NaN</td>\n",
       "      <td>H</td>\n",
       "      <td>35.78</td>\n",
       "      <td>69</td>\n",
       "      <td>1483</td>\n",
       "      <td>ACREEDORES POR DOCUMENTOS DE COBRO INMEDIATO  ...</td>\n",
       "      <td>35.78</td>\n",
       "      <td>DEPOSITO DE CHEQUES AJENOS, CONCEPTO: TRAMITE...</td>\n",
       "      <td>1989935</td>\n",
       "      <td>498</td>\n",
       "    </tr>\n",
       "    <tr>\n",
       "      <th>3</th>\n",
       "      <td>NaN</td>\n",
       "      <td>H</td>\n",
       "      <td>2.00</td>\n",
       "      <td>69</td>\n",
       "      <td>1483</td>\n",
       "      <td>ACREEDORES POR DOCUMENTOS DE COBRO INMEDIATO  ...</td>\n",
       "      <td>2.00</td>\n",
       "      <td>DEPOSITO DE CHEQUES AJENOS, CONCEPTO: TRANSFE...</td>\n",
       "      <td>1989946</td>\n",
       "      <td>498</td>\n",
       "    </tr>\n",
       "    <tr>\n",
       "      <th>4</th>\n",
       "      <td>NaN</td>\n",
       "      <td>H</td>\n",
       "      <td>559335.14</td>\n",
       "      <td>69</td>\n",
       "      <td>1483</td>\n",
       "      <td>ACREEDORES POR DOCUMENTOS DE COBRO INMEDIATO  ...</td>\n",
       "      <td>559335.14</td>\n",
       "      <td>DEPOSITO DE CHEQUES AJENOS, CONCEPTO: REEMBOL...</td>\n",
       "      <td>1989972</td>\n",
       "      <td>498</td>\n",
       "    </tr>\n",
       "    <tr>\n",
       "      <th>...</th>\n",
       "      <td>...</td>\n",
       "      <td>...</td>\n",
       "      <td>...</td>\n",
       "      <td>...</td>\n",
       "      <td>...</td>\n",
       "      <td>...</td>\n",
       "      <td>...</td>\n",
       "      <td>...</td>\n",
       "      <td>...</td>\n",
       "      <td>...</td>\n",
       "    </tr>\n",
       "    <tr>\n",
       "      <th>6809</th>\n",
       "      <td>NaN</td>\n",
       "      <td>D</td>\n",
       "      <td>26814486.58</td>\n",
       "      <td>69</td>\n",
       "      <td>7425</td>\n",
       "      <td>VUN AGENCIA DE BOLSA - CUENTA DE LIQUIDACION  ...</td>\n",
       "      <td>26814486.58</td>\n",
       "      <td>E33 TRANSFERENCIA A CUENTAS DE CLIENTES DEL SI...</td>\n",
       "      <td>1558345</td>\n",
       "      <td>414</td>\n",
       "    </tr>\n",
       "    <tr>\n",
       "      <th>6810</th>\n",
       "      <td>NaN</td>\n",
       "      <td>D</td>\n",
       "      <td>15421.02</td>\n",
       "      <td>69</td>\n",
       "      <td>7425</td>\n",
       "      <td>VUN AGENCIA DE BOLSA - CUENTA DE LIQUIDACION  ...</td>\n",
       "      <td>15421.02</td>\n",
       "      <td>E33 TRANSFERENCIA A CUENTAS DE CLIENTES DEL SI...</td>\n",
       "      <td>1558347</td>\n",
       "      <td>414</td>\n",
       "    </tr>\n",
       "    <tr>\n",
       "      <th>6811</th>\n",
       "      <td>NaN</td>\n",
       "      <td>D</td>\n",
       "      <td>53156743.56</td>\n",
       "      <td>69</td>\n",
       "      <td>7425</td>\n",
       "      <td>VUN AGENCIA DE BOLSA - CUENTA DE LIQUIDACION  ...</td>\n",
       "      <td>53156743.56</td>\n",
       "      <td>E33 TRANSFERENCIA A CUENTAS DE CLIENTES DEL SI...</td>\n",
       "      <td>1558369</td>\n",
       "      <td>414</td>\n",
       "    </tr>\n",
       "    <tr>\n",
       "      <th>6812</th>\n",
       "      <td>NaN</td>\n",
       "      <td>D</td>\n",
       "      <td>130475.16</td>\n",
       "      <td>69</td>\n",
       "      <td>7425</td>\n",
       "      <td>VUN AGENCIA DE BOLSA - CUENTA DE LIQUIDACION  ...</td>\n",
       "      <td>130475.16</td>\n",
       "      <td>E33 TRANSFERENCIA A CUENTAS DE CLIENTES DEL SI...</td>\n",
       "      <td>1558371</td>\n",
       "      <td>414</td>\n",
       "    </tr>\n",
       "    <tr>\n",
       "      <th>6813</th>\n",
       "      <td>NaN</td>\n",
       "      <td>D</td>\n",
       "      <td>2506.48</td>\n",
       "      <td>69</td>\n",
       "      <td>7425</td>\n",
       "      <td>VUN AGENCIA DE BOLSA - CUENTA DE LIQUIDACION  ...</td>\n",
       "      <td>2506.48</td>\n",
       "      <td>E33 TRANSFERENCIA A CUENTAS DE CLIENTES DEL SI...</td>\n",
       "      <td>1558373</td>\n",
       "      <td>414</td>\n",
       "    </tr>\n",
       "  </tbody>\n",
       "</table>\n",
       "<p>6814 rows × 10 columns</p>\n",
       "</div>"
      ],
      "text/plain": [
       "     glosa_reng cve_debe_haber     monto_mo  cod_moneda  cod_movimiento  \\\n",
       "0           NaN              H    488493.03          69            1483   \n",
       "1           NaN              H       729.22          69            1483   \n",
       "2           NaN              H        35.78          69            1483   \n",
       "3           NaN              H         2.00          69            1483   \n",
       "4           NaN              H    559335.14          69            1483   \n",
       "...         ...            ...          ...         ...             ...   \n",
       "6809        NaN              D  26814486.58          69            7425   \n",
       "6810        NaN              D     15421.02          69            7425   \n",
       "6811        NaN              D  53156743.56          69            7425   \n",
       "6812        NaN              D    130475.16          69            7425   \n",
       "6813        NaN              D      2506.48          69            7425   \n",
       "\n",
       "                                         nom_movimiento     monto_mn  \\\n",
       "0     ACREEDORES POR DOCUMENTOS DE COBRO INMEDIATO  ...    488493.03   \n",
       "1     ACREEDORES POR DOCUMENTOS DE COBRO INMEDIATO  ...       729.22   \n",
       "2     ACREEDORES POR DOCUMENTOS DE COBRO INMEDIATO  ...        35.78   \n",
       "3     ACREEDORES POR DOCUMENTOS DE COBRO INMEDIATO  ...         2.00   \n",
       "4     ACREEDORES POR DOCUMENTOS DE COBRO INMEDIATO  ...    559335.14   \n",
       "...                                                 ...          ...   \n",
       "6809  VUN AGENCIA DE BOLSA - CUENTA DE LIQUIDACION  ...  26814486.58   \n",
       "6810  VUN AGENCIA DE BOLSA - CUENTA DE LIQUIDACION  ...     15421.02   \n",
       "6811  VUN AGENCIA DE BOLSA - CUENTA DE LIQUIDACION  ...  53156743.56   \n",
       "6812  VUN AGENCIA DE BOLSA - CUENTA DE LIQUIDACION  ...    130475.16   \n",
       "6813  VUN AGENCIA DE BOLSA - CUENTA DE LIQUIDACION  ...      2506.48   \n",
       "\n",
       "                                          glosa_comprob  nro_comprob  \\\n",
       "0      DEPOSITO DE CHEQUES AJENOS, CONCEPTO: TRAMITE...      1989932   \n",
       "1      DEPOSITO DE CHEQUES AJENOS, CONCEPTO: TRAMITE...      1989933   \n",
       "2      DEPOSITO DE CHEQUES AJENOS, CONCEPTO: TRAMITE...      1989935   \n",
       "3      DEPOSITO DE CHEQUES AJENOS, CONCEPTO: TRANSFE...      1989946   \n",
       "4      DEPOSITO DE CHEQUES AJENOS, CONCEPTO: REEMBOL...      1989972   \n",
       "...                                                 ...          ...   \n",
       "6809  E33 TRANSFERENCIA A CUENTAS DE CLIENTES DEL SI...      1558345   \n",
       "6810  E33 TRANSFERENCIA A CUENTAS DE CLIENTES DEL SI...      1558347   \n",
       "6811  E33 TRANSFERENCIA A CUENTAS DE CLIENTES DEL SI...      1558369   \n",
       "6812  E33 TRANSFERENCIA A CUENTAS DE CLIENTES DEL SI...      1558371   \n",
       "6813  E33 TRANSFERENCIA A CUENTAS DE CLIENTES DEL SI...      1558373   \n",
       "\n",
       "      cod_mayor  \n",
       "0           498  \n",
       "1           498  \n",
       "2           498  \n",
       "3           498  \n",
       "4           498  \n",
       "...         ...  \n",
       "6809        414  \n",
       "6810        414  \n",
       "6811        414  \n",
       "6812        414  \n",
       "6813        414  \n",
       "\n",
       "[6814 rows x 10 columns]"
      ]
     },
     "execution_count": 3,
     "metadata": {},
     "output_type": "execute_result"
    }
   ],
   "source": [
    "bdReducida=bdBruto.loc[:,('glosa_reng','cve_debe_haber','monto_mo',\n",
    "           'cod_moneda', 'cod_movimiento', 'nom_movimiento',\n",
    "           'monto_mn','glosa_comprob','nro_comprob','cod_mayor')]\n",
    "bdReducida"
   ]
  },
  {
   "cell_type": "code",
   "execution_count": 4,
   "metadata": {},
   "outputs": [
    {
     "data": {
      "text/plain": [
       "(6814, 10)"
      ]
     },
     "execution_count": 4,
     "metadata": {},
     "output_type": "execute_result"
    }
   ],
   "source": [
    "dict = {'glosa_reng':'glosaRenglon','cve_debe_haber':'dh','monto_mo':'mo',\n",
    "           'cod_moneda':'moneda', 'cod_movimiento':'codMov', 'nom_movimiento':'nomMov',\n",
    "           'monto_mn':'mn','glosa_comprob':'glosa','nro_comprob':'comprobante','cod_mayor':'mayor'}\n",
    "bdReducida.rename(columns=dict,\n",
    "          inplace=True)\n",
    "bdReducida.shape\n",
    "\n"
   ]
  },
  {
   "cell_type": "code",
   "execution_count": 5,
   "metadata": {},
   "outputs": [],
   "source": [
    "#bd['mayor'].unique()\n",
    "\n",
    "bdFiltro1=bdReducida[bdReducida['mayor'].isin([7,10,11,16,17])]"
   ]
  },
  {
   "cell_type": "code",
   "execution_count": 6,
   "metadata": {},
   "outputs": [
    {
     "data": {
      "text/plain": [
       "array([1989943, 1989965, 1990012, 1990005, 1023245,   28368, 1023252,\n",
       "       1023273,   21775, 1750703, 1751094, 1751095, 1023248, 1751442,\n",
       "         28372, 1750953, 1750955, 1750957, 1750959, 1750961, 1023253,\n",
       "       1023251, 1751436, 1751437, 1751439, 1751441, 1023272, 1023271,\n",
       "       1751546, 1751547, 1023283, 1023280, 1023277, 1023274, 1023268,\n",
       "       1023269], dtype=int64)"
      ]
     },
     "execution_count": 6,
     "metadata": {},
     "output_type": "execute_result"
    }
   ],
   "source": [
    "#bdFiltro1.loc[:,(\"comprobante\",\"mayor\")]\n",
    "bdFiltro1[\"comprobante\"].unique()\n",
    "#bdFiltro1.sort_values(by=\"comprobante\", ascending=True)"
   ]
  },
  {
   "cell_type": "code",
   "execution_count": 7,
   "metadata": {
    "scrolled": true
   },
   "outputs": [],
   "source": [
    "#bd[bd['comprobante'].isin(bdFiltro1[\"comprobante\"])].sort_values(by=\"comprobante\", ascending=True).tail(60)\n",
    "bd=bdReducida[bdReducida[\"comprobante\"].isin(bdFiltro1[\"comprobante\"])].sort_values(by=[\"comprobante\",\"dh\"], ascending=True)\n",
    "bd = bd.reset_index(drop=True)\n",
    "######bd.head()"
   ]
  },
  {
   "cell_type": "code",
   "execution_count": 8,
   "metadata": {},
   "outputs": [
    {
     "data": {
      "text/plain": [
       "['||TRANSFERENCIA DE FONDOS S/G. MENSAJE SWIFT NRO. 189 DE LA FECHA, Y NOTA CITE: DGAC/1573/16 DE FECHA 05/05/2016 (HRE-TGL-6755).  (SECTOR PÚBLICO - SOBREVUELOS).                                                                                                                                           ']"
      ]
     },
     "execution_count": 8,
     "metadata": {},
     "output_type": "execute_result"
    }
   ],
   "source": [
    "list(bd.loc[55,[\"glosa\"]])"
   ]
  },
  {
   "cell_type": "code",
   "execution_count": 9,
   "metadata": {},
   "outputs": [],
   "source": [
    "#bd.to_excel(\"ux.xlsx\")"
   ]
  },
  {
   "cell_type": "code",
   "execution_count": 10,
   "metadata": {},
   "outputs": [],
   "source": [
    "bd=bd.drop_duplicates()\n",
    "bd = bd.reset_index(drop=True)\n",
    "#####bd"
   ]
  },
  {
   "cell_type": "code",
   "execution_count": 11,
   "metadata": {},
   "outputs": [
    {
     "data": {
      "text/plain": [
       "array([  21775,   28368,   28372, 1023245, 1023248, 1023251, 1023252,\n",
       "       1023253, 1023268, 1023269, 1023271, 1023272, 1023273, 1023274,\n",
       "       1023277, 1023280, 1023283, 1750703, 1750953, 1750955, 1750957,\n",
       "       1750959, 1750961, 1751094, 1751095, 1751436, 1751437, 1751439,\n",
       "       1751441, 1751442, 1751546, 1751547, 1989943, 1989965, 1990005,\n",
       "       1990012], dtype=int64)"
      ]
     },
     "execution_count": 11,
     "metadata": {},
     "output_type": "execute_result"
    }
   ],
   "source": [
    "bd[\"comprobante\"].unique()"
   ]
  },
  {
   "cell_type": "code",
   "execution_count": 111,
   "metadata": {},
   "outputs": [
    {
     "data": {
      "text/html": [
       "<div>\n",
       "<style scoped>\n",
       "    .dataframe tbody tr th:only-of-type {\n",
       "        vertical-align: middle;\n",
       "    }\n",
       "\n",
       "    .dataframe tbody tr th {\n",
       "        vertical-align: top;\n",
       "    }\n",
       "\n",
       "    .dataframe thead th {\n",
       "        text-align: right;\n",
       "    }\n",
       "</style>\n",
       "<table border=\"1\" class=\"dataframe\">\n",
       "  <thead>\n",
       "    <tr style=\"text-align: right;\">\n",
       "      <th></th>\n",
       "      <th>Concepto</th>\n",
       "      <th>Cuenta</th>\n",
       "      <th>Entidad</th>\n",
       "      <th>Detalle</th>\n",
       "      <th>Glosa</th>\n",
       "    </tr>\n",
       "  </thead>\n",
       "  <tbody>\n",
       "    <tr>\n",
       "      <th>0</th>\n",
       "      <td>Ingreso</td>\n",
       "      <td>INTERESES DEVENGADOS                          ...</td>\n",
       "      <td>INTERESES SOBRE CUPONES PORTAFOLIO EURO       ...</td>\n",
       "      <td>NaN</td>\n",
       "      <td>||INTERESES DEVENGADOS AL 07  DE ENERO  DE   2...</td>\n",
       "    </tr>\n",
       "  </tbody>\n",
       "</table>\n",
       "</div>"
      ],
      "text/plain": [
       "  Concepto                                             Cuenta  \\\n",
       "0  Ingreso  INTERESES DEVENGADOS                          ...   \n",
       "\n",
       "                                             Entidad  Detalle  \\\n",
       "0  INTERESES SOBRE CUPONES PORTAFOLIO EURO       ...      NaN   \n",
       "\n",
       "                                               Glosa  \n",
       "0  ||INTERESES DEVENGADOS AL 07  DE ENERO  DE   2...  "
      ]
     },
     "execution_count": 111,
     "metadata": {},
     "output_type": "execute_result"
    }
   ],
   "source": [
    "# esto genera los pares\n",
    "aux1=bd[\"comprobante\"].unique()\n",
    "for q in range(5,7,1):\n",
    "    #print(bd[\"comprobante\"]==aux1[i])\n",
    "    \n",
    "    aux2=bd[bd[\"comprobante\"]==aux1[q]]\n",
    "    #print(bd[bd[\"comprobante\"]==aux1[i]])\n",
    "    aux2=aux2.reset_index(drop=True)\n",
    "    \n",
    "    ###########\n",
    "\n",
    "\n",
    "    #def consolida(x):\n",
    "    data1=[]\n",
    "    columnas=[\"Concepto\",\"Mayor\",\"Cuenta\",\"MN\",\"Comprobante\",\"Glosa\",\"GlosaDetalle\"]\n",
    "\n",
    "    for i in aux2.index:\n",
    "        for j in aux2.index:\n",
    "            if i!=j:\n",
    "                if aux2[\"mn\"][i]==aux2[\"mn\"][j]:  ####### AQUI VER LA FORMA DE COMPARAR CON UN MARGEN\n",
    "\n",
    "                    data1.append({\n",
    "                                \"Concepto\":aux2[\"dh\"][i],\"Cuenta\":aux2[\"nomMov\"][i],\"Mayor\":aux2[\"mayor\"][i],\n",
    "                                \"MN\":aux2[\"mn\"][i],\"Comprobante\":aux2[\"comprobante\"][i],\n",
    "                                \"Glosa\":aux2[\"glosa\"][i],\"GlosaDetalle\":aux2[\"glosaRenglon\"][i],\n",
    "                                })\n",
    "    pares=pd.DataFrame(data1,columns=columnas)\n",
    "    #pares\n",
    "    # Esto genera el registro consolidado \n",
    "    cuentas=[7,10,11,16,17]\n",
    "    data2=[]\n",
    "    columnas=[\"Concepto\",\"Cuenta\",\"Entidad\",\"Detalle\",\"Glosa\"] #luego pones mas campos importantes\n",
    "\n",
    "    if len(pares)>2:\n",
    "        print(\"Revisar oe\")\n",
    "\n",
    "    #for i in salida.index:\n",
    "    def llenarData(concepto,a,b,c):\n",
    "         data2.append({\n",
    "                 \"Concepto\":concepto,\"Cuenta\":pares[\"Cuenta\"][a],\"Entidad\":pares[\"Cuenta\"][b],\n",
    "                \"Detalle\":pares[\"GlosaDetalle\"][c],\"Glosa\":pares[\"Glosa\"][0]\n",
    "                })\n",
    "\n",
    "    if pares[\"Mayor\"][0] in cuentas and pares[\"Mayor\"][1] in cuentas:\n",
    "        print(\"Posible Neteo\")\n",
    "    else:     \n",
    "        if pares[\"Mayor\"][0] in cuentas and pares[\"Mayor\"][1] not in cuentas and pares[\"Concepto\"][0]==\"D\":\n",
    "            llenarData(\"Ingreso\",0,1,1)        \n",
    "        if pares[\"Mayor\"][0] in cuentas and pares[\"Mayor\"][1] not in cuentas and pares[\"Concepto\"][0]==\"H\":\n",
    "            llenarData(\"Egreso\",0,1,1)                   \n",
    "        if pares[\"Mayor\"][1] in cuentas and pares[\"Mayor\"][0] not in cuentas and pares[\"Concepto\"][1]==\"D\":\n",
    "            llenarData(\"Ingreso\",1,0,0)                    \n",
    "        if pares[\"Mayor\"][1] in cuentas and pares[\"Mayor\"][0] not in cuentas and pares[\"Concepto\"][1]==\"H\":            \n",
    "            llenarData(\"Egreso\",1,0,0)   \n",
    "        #print(pares)\n",
    "    consolidado=pd.DataFrame(data2,columns=columnas)\n",
    "    #data\n",
    "consolidado\n",
    "#aux2\n"
   ]
  },
  {
   "cell_type": "code",
   "execution_count": null,
   "metadata": {},
   "outputs": [],
   "source": []
  },
  {
   "cell_type": "code",
   "execution_count": null,
   "metadata": {},
   "outputs": [],
   "source": []
  }
 ],
 "metadata": {
  "kernelspec": {
   "display_name": "Python 3",
   "language": "python",
   "name": "python3"
  },
  "language_info": {
   "codemirror_mode": {
    "name": "ipython",
    "version": 3
   },
   "file_extension": ".py",
   "mimetype": "text/x-python",
   "name": "python",
   "nbconvert_exporter": "python",
   "pygments_lexer": "ipython3",
   "version": "3.8.5"
  }
 },
 "nbformat": 4,
 "nbformat_minor": 4
}
